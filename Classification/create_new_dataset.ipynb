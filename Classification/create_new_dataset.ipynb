{
 "cells": [
  {
   "cell_type": "code",
   "execution_count": 63,
   "metadata": {},
   "outputs": [],
   "source": [
    "from IPython.core.interactiveshell import InteractiveShell\n",
    "InteractiveShell.ast_node_interactivity = \"all\""
   ]
  },
  {
   "cell_type": "code",
   "execution_count": 64,
   "metadata": {},
   "outputs": [],
   "source": [
    "import os\n",
    "import shutil\n",
    "cwd=os.getcwd()"
   ]
  },
  {
   "cell_type": "code",
   "execution_count": 65,
   "metadata": {
    "scrolled": true
   },
   "outputs": [],
   "source": [
    "#create new dataset directories\n",
    "oldDS=os.path.join(cwd,'Classification_Dataset')\n",
    "newDS=os.path.join(cwd,'new_dataset1')\n",
    "shutil.copytree(oldDS, newDS)"
   ]
  },
  {
   "cell_type": "code",
   "execution_count": 66,
   "metadata": {},
   "outputs": [],
   "source": [
    "#create validation dir\n",
    "newValid=os.path.join(cwd,'new_dataset1\\\\validation')\n",
    "os.mkdir(newValid)"
   ]
  },
  {
   "cell_type": "code",
   "execution_count": 68,
   "metadata": {},
   "outputs": [],
   "source": [
    "#create validation directories\n",
    "c=0\n",
    "newTrain=os.path.join(newDS,'training')\n",
    "for name in os.listdir(newTrain):\n",
    "    temppath=os.path.join(newValid,name)\n",
    "    os.mkdir(temppath)\n",
    "    for file in os.listdir(os.path.join(newTrain,name)):\n",
    "        if c%15==0:\n",
    "            os.replace(os.path.join(newTrain,name,file),os.path.join(temppath,file))\n",
    "        c=c+1"
   ]
  },
  {
   "cell_type": "code",
   "execution_count": null,
   "metadata": {},
   "outputs": [],
   "source": []
  }
 ],
 "metadata": {
  "kernelspec": {
   "display_name": "Python 3",
   "language": "python",
   "name": "python3"
  },
  "language_info": {
   "codemirror_mode": {
    "name": "ipython",
    "version": 3
   },
   "file_extension": ".py",
   "mimetype": "text/x-python",
   "name": "python",
   "nbconvert_exporter": "python",
   "pygments_lexer": "ipython3",
   "version": "3.5.0"
  }
 },
 "nbformat": 4,
 "nbformat_minor": 2
}
